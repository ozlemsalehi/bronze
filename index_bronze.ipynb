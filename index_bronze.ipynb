{
 "cells": [
  {
   "cell_type": "markdown",
   "metadata": {},
   "source": [
    "<table><tr>\n",
    "    <td  style=\"background-color:#ffffff;text-align:left;\"><a href=\"http://qworld.lu.lv\" target=\"_blank\"><img src=\"images/qworld.jpg\" width=\"30%\" align=\"left\"></a></td>\n",
    "    <td style=\"background-color:#ffffff;\">&nbsp;</td>\n",
    "    <td style=\"background-color:#ffffff;vertical-align:text-middle;text-align:right;\">\n",
    "        <table><tr style=\"background-color:white;\">\n",
    "            <td> Visit</td>\n",
    "            <td><a href=\"http://qworld.lu.lv\" target=\"_blank\"><img src=\"images/web-logo.png\" width=\"35px\"></a></td>\n",
    "            <td width=\"10pt\"></td>\n",
    "            <td> Join</td>\n",
    "            <td><a href=\"https://qworldworkspace.slack.com/\" target=\"_blank\"><img src=\"images/slack-icon.png\" width=\"80px\"></a></td>\n",
    "            <td width=\"10pt\"></td>\n",
    "            <td>Follow</td>\n",
    "            <td><a href=\"https://www.facebook.com/qworld19/\" target=\"_blank\"><img src=\"images/facebook-icon.png\" width=\"40px\"></a></td>\n",
    "            <td><a href=\"https://twitter.com/QWorld19\" target=\"_blank\"><img src=\"images/twitter-icon.png\" width=\"40px\"></a></td>\n",
    "        </tr></table>\n",
    "    </td>     \n",
    "</tr></table>"
   ]
  },
  {
   "cell_type": "markdown",
   "metadata": {},
   "source": [
    "\n",
    "<h1 align=\"center\" style=\"color: #cd7f32;\"> Welcome to Bronze </h1>\n",
    "<hr>"
   ]
  },
  {
   "cell_type": "markdown",
   "metadata": {},
   "source": [
    "<font style=\"color: #cd7f32;size:+1;\"><b><i>Bronze</i></b></font> is our introductory material to introduce the basics of quantum computation and quantum programming. It is a big collection of Jupyter notebooks](https://jupyter.org). \n",
    "\n",
    "This is <a href=\"www.qturkey.org\" target=\"blank\">QTurkey</a> version of Bronze and the original version can be found <a href=\"https://gitlab.com/qkitchen/basics-of-quantum-computing\" target=\"_blank\"> here</a>.\n",
    "\n",
    "Bronze can be used to organize two-day or three-day long workshops or to design one-semester course for the second or third year university students. In Bronze, we focus on real numbers and skip to use complex numbers to keep the tutorial simpler. Here is a complete list of our workshops using Bronze: <a href=\"http://qworld.lu.lv/index.php/workshop-bronze/#list\" target=\"_blank\">QBronze</a>. \n",
    "\n",
    "*If you are using Jupyter notebooks for the first time, you can check our very short <a href=\"python/Python02_Into_Notebooks.ipynb\" target=\"_blank\">Introduction for Notebooks</a>.*\n",
    "\n",
    "**The open-source toolkits we are using**\n",
    "- Programming language: <a href=\"https://www.python.org\" target=\"_blank\">python</a>\n",
    "- Quantum programming libraries:</u> <a href=\"https://qiskit.org\" target=\"_blank\">Qiskit</a> is the main library at the moment. - We use <a href=\"https://www.mathjax.org\" target=\"_blank\">MathJax</a> to display mathematical expressions on html files (e.g., exercises).\n",
    "-  We use open source  interactive tool <a href=\"http://play.quantumgame.io\" target=\"_blank\">quantumgame</a> for showing quantum coin flipping experiments.\n",
    "\n",
    "**Support:** Please use _#general channel under_ <a href=\"https://qworldworkspace.slack.com/\" target=\"_blank\">QWorld's slack workspace</a> to ask your questions."
   ]
  },
  {
   "cell_type": "markdown",
   "metadata": {},
   "source": [
    "<h1 align=\"center\" style=\"color: #cd7f32;\"> Content </h1>"
   ]
  },
  {
   "cell_type": "markdown",
   "metadata": {},
   "source": [
    "<a href=\"bronze/B00_Credits.ipynb\" target=\"_blank\">Credits</a>"
   ]
  },
  {
   "cell_type": "markdown",
   "metadata": {},
   "source": [
    "<h3 align=\"left\"> Installation and Test </h3>"
   ]
  },
  {
   "cell_type": "markdown",
   "metadata": {},
   "source": [
    "_Python libraries including quantum ones are often updated. Therefore, there might appear some problems due to different versions_\n",
    "\n",
    "Before starting to use Bronze, please test your system by using the following notebook!\n",
    "\n",
    "Qiskit is the main the quantum programming library, and you should install it to follow the whole Bronze. \n",
    "<ul>\n",
    "    <li><a href=\"test/Qiskit_installation_and_test.ipynb\" target=\"_blank\">Qiskit installation and test</a></li>\n",
    "</ul>"
   ]
  },
  {
   "cell_type": "markdown",
   "metadata": {},
   "source": [
    "<b>Connecting to real quantum computers</b> (optional)\n",
    "<ul>\n",
    "    <li><a href=\"https://qiskit.org/documentation/install.html#install-access-ibm-q-devices-label\" target=\"_blank\">Access IBM Q Systems</a> (external link)</li>\n",
    "       <li><a href=\"test/Executing_quantum_programs_on_IBMQ.ipynb\" target=\"_blank\">Executing Quantum Programs on IBMQ</a>\n",
    "</ul>"
   ]
  },
  {
   "cell_type": "markdown",
   "metadata": {},
   "source": [
    "<b>References</b>\n",
    "\n",
    "\n",
    "[Python Reference](python/Python04_Quick_Reference.ipynb) &nbsp;|&nbsp;\n",
    "[Python: Drawing](python/Python06_Drawing.ipynb) &nbsp;|&nbsp;\n",
    "[Qiskit Reference](bronze/B01_Qiskit_Reference.ipynb)\n"
   ]
  },
  {
   "cell_type": "markdown",
   "metadata": {},
   "source": [
    "<b>Python review</b>\n",
    "\n",
    "[Variables](python/Python08_Basics_Variables.ipynb) &nbsp;|&nbsp;\n",
    "[Loops](python/Python12_Basics_Loops.ipynb) &nbsp;|&nbsp;\n",
    "[Conditionals](python/Python16_Basics_Conditionals.ipynb) &nbsp;|&nbsp;\n",
    "[Lists](python/Python20_Basics_Lists.ipynb)\n"
   ]
  },
  {
   "cell_type": "markdown",
   "metadata": {},
   "source": [
    "<b>Basic math</b>\n",
    "\n",
    "[Vectors](math/Math20_Vectors.ipynb) &nbsp;|&nbsp;\n",
    "[Dot Product](math/Math24_Dot_Product.ipynb) &nbsp;|&nbsp;\n",
    "[Matrices](math/Math28_Matrices.ipynb) &nbsp;|&nbsp;\n",
    "[Tensor Product](math/Math32_Tensor_Product.ipynb) &nbsp;|&nbsp;\n",
    "\n"
   ]
  },
  {
   "cell_type": "markdown",
   "metadata": {},
   "source": [
    "<b>Basics of classical systems</b>\n",
    "<ol>\n",
    "    <li><a href=\"bronze/B03_One_Bit.ipynb\" target=\"_blank\">One Bit</a></li>\n",
    "    <li><a href=\"bronze/B06_Coin_Flip.ipynb\" target=\"_blank\">Coin Flipping</a></li>\n",
    "    <li><a href=\"bronze/B07_Probabilistic_Bit.ipynb\" target=\"_blank\">Probabilistic Bit</a></li>   \n",
    "     <li><a href=\"bronze/B12_Probabilistic_States.ipynb\" target=\"_blank\">Probabilistic States</a></li> \n",
    "     <li><a href=\"bronze/B09_Coin_Flip_Game.ipynb\" target=\"_blank\">Coin Flipping Game</a></li>\n",
    "    <li><a href=\"bronze/B15_Probabilistic_Operators.ipynb\" target=\"_blank\">Probabilistic Operators</a></li> \n",
    "    <li><a href=\"bronze/B17_Two_Probabilistic_Bits.ipynb\" target=\"_blank\">Two Probabilistic Bits</a></li>\n",
    "   </ol>"
   ]
  },
  {
   "cell_type": "markdown",
   "metadata": {},
   "source": [
    "\n",
    "<b>Basics of quantum systems</b>\n",
    "<ol start=\"8\">\n",
    "    <li><a href=\"bronze/B20_Quantum_Coin_Flipping.ipynb\" target=\"_blank\">Quantum Coin Flipping</a></li>\n",
    " <li><a href=\"bronze/B25_One_Qubit.ipynb\" target=\"_blank\">One Qubit</a></li>\n",
    "    <li><a href=\"bronze/B28_Quantum_State.ipynb\" target=\"_blank\">Quantum States</a></li> \n",
    "    <li><a href=\"bronze/B29_Quantum_Operators.ipynb\" target=\"_blank\">Quantum Operators</a></li> \n",
    "    <li><a href=\"bronze/B24_Hadamard.ipynb\" target=\"_blank\">Hadamard Operator</a></li>\n",
    "    <li><a href=\"bronze/B38_Multiple_Qubits.ipynb\" target=\"_blank\">Multiple Qubits</a></li>\n",
    "    <li><a href=\"bronze/B39_Controlled_Operations.ipynb\" target=\"_blank\">Controlled Operations</a></li>\n",
    "    <li><a href=\"bronze/B30_Visualization_of_a_Qubit.ipynb\" target=\"_blank\">Visualization of a (Real-Valued) Qubit</a></li>\n",
    "    <li><a href=\"bronze/B32_Initializing_a_Qubit.ipynb\" target=\"_blank\">Initializing a Qubit</a></li>\n",
    "\n",
    "</ol>\n",
    "\n"
   ]
  },
  {
   "cell_type": "markdown",
   "metadata": {},
   "source": [
    "##### <b>Operations on (real-valued) qubits</b>\n",
    "<ol start=\"17\">\n",
    "    <li><a href=\"bronze/B40_Operations_on_the_Unit_Circle.ipynb\" target=\"_blank\">Operations on the Unit Circle</a></li>\n",
    "    <li><a href=\"bronze/B60_Reflections.ipynb\" target=\"_blank\">Reflections</a></li>\n",
    "    <li><a href=\"bronze/B64_Rotations.ipynb\" target=\"_blank\">Rotations</a></li>\n",
    "</ol>  "
   ]
  },
  {
   "cell_type": "markdown",
   "metadata": {},
   "source": [
    "<b>Basic quantum protocols</b>\n",
    "<ol start=\"21\">\n",
    "    <li><a href=\"bronze/B50_Superdense_Coding.ipynb\" target=\"_blank\">Entanglement and Superdense Coding</a></li> \n",
    "    <li><a href=\"bronze/B54_Quantum_Teleportation.ipynb\" target=\"_blank\">Quantum Teleportation</a></li>\n",
    "</ol>"
   ]
  },
  {
   "cell_type": "markdown",
   "metadata": {},
   "source": [
    "<b>Grover's search algorithm</b>\n",
    "<ol start=\"23\">\n",
    "    <li><a href=\"bronze/B80_Inversion_About_the_Mean.ipynb\" target=\"_blank\">Inversion About the Mean</a></li>\n",
    "    <li><a href=\"bronze/B81_Grovers_Algorithm.ipynb\" target=\"_blank\">Grover's Search Algorithm</a></li>\n",
    "    <li><a href=\"bronze/B88_Grovers_Search_One_Qubit_Representation.ipynb\" target=\"_blank\">Grover's Search: One Qubit Representation</a></li>\n",
    "       <li><a href=\"bronze/B84_Phase_Kickback.ipynb\" target=\"_blank\">Phase Kickback</a></li>\n",
    "    <li><a href=\"bronze/B90_Grovers_Search_Implementation.ipynb\" target=\"_blank\">Grover's Search: Implementation</a></li>\n",
    "</ol> "
   ]
  },
  {
   "cell_type": "markdown",
   "metadata": {},
   "source": [
    " <li><a href=\"bronze/Resources.ipynb\" target=\"_blank\">Further Resources</a></li>"
   ]
  },
  {
   "cell_type": "markdown",
   "metadata": {},
   "source": [
    "<b>Exercises</b>\n",
    "<ul>\n",
    "    <li><a href=\"./exercises/E05_Basic_Math.html\" target=\"_blank\">Basic Math</a></li>\n",
    "    <li><a href=\"./exercises/E09_Probabilistic_Systems.html\" target=\"_blank\">Probabilistic Systems</a></li>\n",
    "   <li><a href=\"./exercises/P09_Probabilistic_Systems.html\" target=\"_blank\">Probabilistic Systems Problem Set</a></li>\n",
    "    <li><a href=\"./exercises/E13_Basics_of_Quantum_Systems.html\" target=\"_blank\">Basics of Quantum Systems</a></li>\n",
    "    <li><a href=\"./exercises/E16_Quantum_Operators_on_a_Real-Valued_Qubit.html\" target=\"_blank\">Quantum Operators on a Real Valued Qubit</a></li>\n",
    "     <li><a href=\"./exercises/E18_Quantum_Correlation.html\" target=\"_blank\">Quantum Correlation</a></li>\n",
    "</ul> \n"
   ]
  },
  {
   "cell_type": "markdown",
   "metadata": {},
   "source": [
    "<b>Optional notebooks</b>\n",
    "<ul>\n",
    "<li><a href=\"bronze/B48_Quantum_Tomography.ipynb\" target=\"_blank\">Quantum Tomography (Optional)</a></li>\n",
    "    <li><a href=\"bronze/B72_Rotation_Automata.ipynb\" target=\"_blank\">Rotation Automata (Optional)</a></li>\n",
    "    <li><a href=\"bronze/B76_Multiple_Rotations.ipynb\" target=\"_blank\">Multiple Rotations (Optional)</a></li>\n",
    "</ul>    "
   ]
  },
  {
   "cell_type": "markdown",
   "metadata": {},
   "source": [
    "<h1 style=\"color: #cd7f32;\" align=\"center\"> Projects </h1>\n",
    "\n",
    "*Difficulty levels:\n",
    "easy (<font size=\"+1\" color=\"7777ee\">&#9733;</font>), \n",
    "medium (<font size=\"+1\" color=\"7777ee\">&#9733;&#9733;</font>), and\n",
    "hard (<font size=\"+1\" color=\"7777ee\">&#9733;&#9733;&#9733;</font>).*\n",
    "\n",
    "<font size=\"+1\" color=\"7777ee\">&nbsp;&nbsp;&nbsp;&nbsp;&nbsp;&nbsp;&#9733;</font> |\n",
    "[Correlation Game](projects/Project_Correlation_Game.ipynb) *on classical bits*\n",
    "\n",
    "<font size=\"+1\" color=\"7777ee\">&nbsp;&nbsp;&nbsp;&nbsp;&nbsp;&nbsp;&#9733;</font> |\n",
    "[Swapping Quantum States](projects/Project_Swapping_Quantum_States.ipynb) *on qubits*\n",
    "\n",
    "<font size=\"+1\" color=\"7777ee\">&nbsp;&nbsp;&nbsp;&#9734;&#9733;</font> |\n",
    "[Simulating a Real-Valued Qubit](projects/Project_Simulating_a_RealValued_Qubit.ipynb)\n",
    "\n",
    "<font size=\"+1\" color=\"7777ee\">&nbsp;&nbsp;&nbsp;&#9733;&#9733;</font> |\n",
    "[Quantum Tomography with Many Qubits](projects/Project_Quantum_Tomography_with_Many_Qubits.ipynb)\n",
    "\n",
    "<font size=\"+1\" color=\"7777ee\">&nbsp;&nbsp;&nbsp;&#9733;&#9733;</font> |\n",
    "[Implementing Quantum Teleportation](projects/Project_Implementing_Quantum_Teleportation.ipynb)\n",
    "\n",
    "<font size=\"+1\" color=\"7777ee\">&#9734;&#9733;&#9733;</font> |\n",
    "[Communication via Superdense Coding](projects/Project_Communication_via_Superdense_Coding.ipynb)\n",
    "\n",
    "<font size=\"+1\" color=\"7777ee\">&#9733;&#9733;&#9733;</font> |\n",
    "[Your Quantum Simulator](projects/Project_Your_Quantum_Simulator.ipynb)"
   ]
  },
  {
   "cell_type": "markdown",
   "metadata": {},
   "source": [
    "<table>\n",
    "        <td  style=\"background-color:#ffffff;text-align:left;\"><a href=\"http://qturkey.org\" target=\"_blank\"><img src=\"images/logot.png\" width=\"25%\" align=\"left\"></a></td>\n",
    "    <td style=\"background-color:#ffffff;\">&nbsp;</td>\n",
    "    <td style=\"background-color:#ffffff;vertical-align:text-middle;text-align:right;\">\n",
    "        <table><tr style=\"background-color:white;\">\n",
    "     <td> Visit</td>\n",
    "            <td><a href=\"http://www.qturkey.org\" target=\"_blank\"><img src=\"images/web-logo.png\" width=\"35px\"></a></td>\n",
    "          <td> Join</td>\n",
    "            <td><a href=\"http://ej.uz/qturkey_slack/\" target=\"_blank\"><img src=\"images/slack-icon.png\" width=\"80px\"></a></td>\n",
    "            <td>Follow</td>\n",
    "             <td><a href=\"https://twitter.com/KuantumTurkiye\" target=\"_blank\"><img src=\"images/twitter-icon.png\" width=\"30px\"></a></td>\n",
    "</tr></table>\n",
    "    </td>     \n",
    "</table>"
   ]
  }
 ],
 "metadata": {
  "kernelspec": {
   "display_name": "Python 3",
   "language": "python",
   "name": "python3"
  },
  "language_info": {
   "codemirror_mode": {
    "name": "ipython",
    "version": 3
   },
   "file_extension": ".py",
   "mimetype": "text/x-python",
   "name": "python",
   "nbconvert_exporter": "python",
   "pygments_lexer": "ipython3",
   "version": "3.7.3"
  }
 },
 "nbformat": 4,
 "nbformat_minor": 4
}
