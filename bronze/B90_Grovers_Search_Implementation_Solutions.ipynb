{
 "cells": [
  {
   "cell_type": "markdown",
   "metadata": {},
   "source": [
    "<table> <tr>\n",
    "        <td  style=\"background-color:#ffffff;\">\n",
    "            <a href=\"http://qworld.lu.lv\" target=\"_blank\"><img src=\"../images/qworld.jpg\" width=\"50%\" align=\"left\"> </a></td>\n",
    "        <td width=\"70%\" style=\"background-color:#ffffff;vertical-align:bottom;text-align:right;\">\n",
    "            prepared by Maksim Dimitrijev(<a href=\"http://qworld.lu.lv/index.php/qlatvia/\">QLatvia</a>)\n",
    "            and Özlem Salehi (<a href=\"http://qworld.lu.lv/index.php/qturkey/\">QTurkey</a>)\n",
    "        </td>        \n",
    "</tr></table>"
   ]
  },
  {
   "cell_type": "markdown",
   "metadata": {},
   "source": [
    "<table width=\"100%\"><tr><td style=\"color:#bbbbbb;background-color:#ffffff;font-size:11px;font-style:italic;text-align:right;\">This cell contains some macros. If there is a problem with displaying mathematical formulas, please run this cell to load these macros. </td></tr></table>\n",
    "$ \\newcommand{\\bra}[1]{\\langle #1|} $\n",
    "$ \\newcommand{\\ket}[1]{|#1\\rangle} $\n",
    "$ \\newcommand{\\braket}[2]{\\langle #1|#2\\rangle} $\n",
    "$ \\newcommand{\\dot}[2]{ #1 \\cdot #2} $\n",
    "$ \\newcommand{\\biginner}[2]{\\left\\langle #1,#2\\right\\rangle} $\n",
    "$ \\newcommand{\\mymatrix}[2]{\\left( \\begin{array}{#1} #2\\end{array} \\right)} $\n",
    "$ \\newcommand{\\myvector}[1]{\\mymatrix{c}{#1}} $\n",
    "$ \\newcommand{\\myrvector}[1]{\\mymatrix{r}{#1}} $\n",
    "$ \\newcommand{\\mypar}[1]{\\left( #1 \\right)} $\n",
    "$ \\newcommand{\\mybigpar}[1]{ \\Big( #1 \\Big)} $\n",
    "$ \\newcommand{\\sqrttwo}{\\frac{1}{\\sqrt{2}}} $\n",
    "$ \\newcommand{\\dsqrttwo}{\\dfrac{1}{\\sqrt{2}}} $\n",
    "$ \\newcommand{\\onehalf}{\\frac{1}{2}} $\n",
    "$ \\newcommand{\\donehalf}{\\dfrac{1}{2}} $\n",
    "$ \\newcommand{\\hadamard}{ \\mymatrix{rr}{ \\sqrttwo & \\sqrttwo \\\\ \\sqrttwo & -\\sqrttwo }} $\n",
    "$ \\newcommand{\\vzero}{\\myvector{1\\\\0}} $\n",
    "$ \\newcommand{\\vone}{\\myvector{0\\\\1}} $\n",
    "$ \\newcommand{\\stateplus}{\\myvector{ \\sqrttwo \\\\  \\sqrttwo } } $\n",
    "$ \\newcommand{\\stateminus}{ \\myrvector{ \\sqrttwo \\\\ -\\sqrttwo } } $\n",
    "$ \\newcommand{\\myarray}[2]{ \\begin{array}{#1}#2\\end{array}} $\n",
    "$ \\newcommand{\\X}{ \\mymatrix{cc}{0 & 1 \\\\ 1 & 0}  } $\n",
    "$ \\newcommand{\\I}{ \\mymatrix{rr}{1 & 0 \\\\ 0 & 1}  } $\n",
    "$ \\newcommand{\\Z}{ \\mymatrix{rr}{1 & 0 \\\\ 0 & -1}  } $\n",
    "$ \\newcommand{\\Htwo}{ \\mymatrix{rrrr}{ \\frac{1}{2} & \\frac{1}{2} & \\frac{1}{2} & \\frac{1}{2} \\\\ \\frac{1}{2} & -\\frac{1}{2} & \\frac{1}{2} & -\\frac{1}{2} \\\\ \\frac{1}{2} & \\frac{1}{2} & -\\frac{1}{2} & -\\frac{1}{2} \\\\ \\frac{1}{2} & -\\frac{1}{2} & -\\frac{1}{2} & \\frac{1}{2} } } $\n",
    "$ \\newcommand{\\CNOT}{ \\mymatrix{cccc}{1 & 0 & 0 & 0 \\\\ 0 & 1 & 0 & 0 \\\\ 0 & 0 & 0 & 1 \\\\ 0 & 0 & 1 & 0} } $\n",
    "$ \\newcommand{\\norm}[1]{ \\left\\lVert #1 \\right\\rVert } $\n",
    "$ \\newcommand{\\pstate}[1]{ \\lceil \\mspace{-1mu} #1 \\mspace{-1.5mu} \\rfloor } $"
   ]
  },
  {
   "cell_type": "markdown",
   "metadata": {},
   "source": [
    "<h2> <font color=\"blue\"> Solutions for </font>Grover's Search: Implementation</h2>"
   ]
  },
  {
   "cell_type": "markdown",
   "metadata": {},
   "source": [
    "<a id=\"task2\"></a>\n",
    "\n",
    "<h3>Task 2</h3>\n",
    "\n",
    "\n",
    "Let $N=4$. Implement the query phase and check the unitary matrix for the query operator. Note that we are interested in the top-left $4 \\times 4$ part of the matrix since the remaining parts are due to the ancilla qubit.\n",
    "\n",
    "You are given a function $f$ and its corresponding quantum operator $U_f$. First run the following cell to load operator $U_f$. Then you can make queries to $f$ by applying the operator $U_f$ via the following command:\n",
    "\n",
    "```python\n",
    "Uf(circuit,qreg)\n",
    "```"
   ]
  },
  {
   "cell_type": "code",
   "execution_count": null,
   "metadata": {},
   "outputs": [],
   "source": [
    "%run ../include/quantum.py"
   ]
  },
  {
   "cell_type": "markdown",
   "metadata": {},
   "source": [
    "Now use phase kickback to flip the sign of the marked element:\n",
    "\n",
    "<ul>\n",
    "    <li>Set output qubit (qreg[2]) to $\\ket{-}$ by applying X and H.</li>\n",
    "    <li>Apply operator $U_f$\n",
    "    <li>Set output qubit (qreg[2]) back.</li>\n",
    "</ul>\n",
    "\n",
    "(Can you guess the marked element by looking at the unitary matrix?)"
   ]
  },
  {
   "cell_type": "markdown",
   "metadata": {},
   "source": [
    "<h3>Solution</h3>"
   ]
  },
  {
   "cell_type": "code",
   "execution_count": null,
   "metadata": {},
   "outputs": [],
   "source": [
    "from qiskit import QuantumRegister, ClassicalRegister, QuantumCircuit, execute, Aer\n",
    "\n",
    "qreg = QuantumRegister(3)\n",
    "#No need to define classical register as we are not measuring\n",
    "\n",
    "mycircuit = QuantumCircuit(qreg)\n",
    "\n",
    "\n",
    "#set ancilla\n",
    "mycircuit.x(qreg[2])\n",
    "mycircuit.h(qreg[2])\n",
    "\n",
    "f(mycircuit,qreg)  \n",
    "    \n",
    "#set ancilla back\n",
    "mycircuit.h(qreg[2])\n",
    "mycircuit.x(qreg[2]) \n",
    "\n",
    "\n",
    "job = execute(mycircuit,Aer.get_backend('unitary_simulator'))\n",
    "u=job.result().get_unitary(mycircuit,decimals=3)\n",
    "\n",
    "#We are interested in the top-left 4x4 part\n",
    "for i in range(4):\n",
    "    s=\"\"\n",
    "    for j in range(4):\n",
    "        val = str(u[i][j].real)\n",
    "        while(len(val)<5): val  = \" \"+val\n",
    "        s = s + val\n",
    "    print(s)\n",
    "    \n",
    "\n",
    "mycircuit.draw(output='mpl')"
   ]
  },
  {
   "cell_type": "markdown",
   "metadata": {},
   "source": [
    "<a id=\"task3\"></a>\n",
    "<h3>Task 3</h3>\n",
    "\n",
    "Let $N=4$. Implement the inversion operator and check whether you obtain the following matrix:\n",
    "\n",
    "$\\mymatrix{cccc}{0.5 & -0.5 & -0.5 & -0.5 \\\\ -0.5 & 0.5 & -0.5 & -0.5 \\\\ -0.5 & -0.5 & 0.5 & -0.5 \\\\ -0.5 & -0.5 & -0.5 & \n",
    "0.5}$."
   ]
  },
  {
   "cell_type": "markdown",
   "metadata": {},
   "source": [
    "<h3>Solution</h3>"
   ]
  },
  {
   "cell_type": "code",
   "execution_count": null,
   "metadata": {},
   "outputs": [],
   "source": [
    "def inversion(circuit,quantum_reg):\n",
    "        \n",
    "    #step 1\n",
    "    circuit.h(quantum_reg[1])\n",
    "    circuit.h(quantum_reg[0])\n",
    "    \n",
    "    #step 2\n",
    "    circuit.x(quantum_reg[1])\n",
    "    circuit.x(quantum_reg[0])\n",
    "\n",
    "    #step 3\n",
    "    circuit.cz(quantum_reg[0],quantum_reg[1])\n",
    "\n",
    "    #step 4\n",
    "    circuit.x(quantum_reg[1])\n",
    "    circuit.x(quantum_reg[0])\n",
    "\n",
    "    #step 5\n",
    "    circuit.h(quantum_reg[1])\n",
    "    circuit.h(quantum_reg[0])"
   ]
  },
  {
   "cell_type": "markdown",
   "metadata": {},
   "source": [
    "Below you can check the matrix of your inversion operator and how the circuit looks like."
   ]
  },
  {
   "cell_type": "code",
   "execution_count": null,
   "metadata": {},
   "outputs": [],
   "source": [
    "from qiskit import QuantumRegister, ClassicalRegister, QuantumCircuit, execute, Aer\n",
    "\n",
    "qreg1 =  QuantumRegister(3)\n",
    "\n",
    "mycircuit1 = QuantumCircuit(qreg1)\n",
    "    \n",
    "inversion(mycircuit1,qreg1)\n",
    "\n",
    "job = execute(mycircuit1,Aer.get_backend('unitary_simulator'))\n",
    "u=job.result().get_unitary(mycircuit1,decimals=3)\n",
    "for i in range(4):\n",
    "    s=\"\"\n",
    "    for j in range(4):\n",
    "        val = str(u[i][j].real)\n",
    "        while(len(val)<5): val  = \" \"+val\n",
    "        s = s + val\n",
    "    print(s)\n",
    "    \n",
    "mycircuit1.draw(output='mpl')"
   ]
  },
  {
   "cell_type": "markdown",
   "metadata": {},
   "source": [
    "<a id=\"task4\"></a>\n",
    "\n",
    "<h3>Task 4: Testing Grover's search</h3>\n",
    "\n",
    "Now we are ready to test our operations and run Grover's search. Suppose that there are 4 elements in the list and try to find the marked element.\n",
    "\n",
    "You are given the operator $U_f$. First run the following cell to load it. You can access it via `Uf(circuit,qreg)`.\n",
    "`qreg[2]` is the ancilla qubit and it is shared by the query and the inversion operators.\n",
    "    \n",
    "Which state do you observe the most? "
   ]
  },
  {
   "cell_type": "code",
   "execution_count": null,
   "metadata": {},
   "outputs": [],
   "source": [
    "%run ..\\include\\quantum.py"
   ]
  },
  {
   "cell_type": "markdown",
   "metadata": {},
   "source": [
    "<h3>Solution</h3>"
   ]
  },
  {
   "cell_type": "code",
   "execution_count": null,
   "metadata": {},
   "outputs": [],
   "source": [
    "from qiskit import QuantumRegister, ClassicalRegister, QuantumCircuit, execute, Aer\n",
    "\n",
    "qreg = QuantumRegister(3)\n",
    "creg = ClassicalRegister(2)\n",
    "\n",
    "mycircuit = QuantumCircuit(qreg,creg)\n",
    "\n",
    "#Grover\n",
    "\n",
    "\n",
    "#initial step - equal superposition\n",
    "for i in range(2):\n",
    "    mycircuit.h(qreg[i])\n",
    "\n",
    "#set ancilla\n",
    "mycircuit.x(qreg[2])\n",
    "mycircuit.h(qreg[2])\n",
    "\n",
    "mycircuit.barrier()\n",
    "\n",
    "#change the number of iterations\n",
    "iterations=1\n",
    "\n",
    "#Grover's iterations.\n",
    "for i in range(iterations):\n",
    "    #query\n",
    "    Uf(mycircuit,qreg)\n",
    "    \n",
    "    mycircuit.barrier()\n",
    "    #inversion\n",
    "    inversion(mycircuit,qreg)\n",
    "    mycircuit.barrier()\n",
    "    \n",
    "    \n",
    "#set ancilla back\n",
    "mycircuit.h(qreg[2])\n",
    "mycircuit.x(qreg[2]) \n",
    "    \n",
    "mycircuit.measure(qreg[0],creg[0])\n",
    "mycircuit.measure(qreg[1],creg[1])\n",
    "\n",
    "job = execute(mycircuit,Aer.get_backend('qasm_simulator'),shots=10000)\n",
    "counts = job.result().get_counts(mycircuit)\n",
    "\n",
    "# print the outcome\n",
    "for outcome in counts:\n",
    "    print(outcome,\"is observed\",counts[outcome],\"times\")\n",
    "\n",
    "mycircuit.draw(output='mpl')"
   ]
  },
  {
   "cell_type": "markdown",
   "metadata": {},
   "source": [
    "<a id=\"task5\"></a>\n",
    "<h3>Task 5 (Optional, challenging)</h3>\n",
    "\n",
    "\n",
    "Implement the inversion operation for $n=3$ ($N=8$). This time you will need 4 qubits - 3 for the operation, and one additional qubit to implement $Z$ gate controlled by 3 qubits.\n",
    "\n",
    "_Hint: To implement $Z$ gate controlled by $q_0,q_1,q_2$, use $CCNOT$ to check the first two qubits $q_0$and $q_1$, store the result in the additional qubit $q_3$ and then apply $CZ$ gate on qubits $q_2$ and $q_3$._\n"
   ]
  },
  {
   "cell_type": "markdown",
   "metadata": {},
   "source": [
    "<h3>Solution</h3>"
   ]
  },
  {
   "cell_type": "code",
   "execution_count": null,
   "metadata": {},
   "outputs": [],
   "source": [
    "def big_inversion(circuit,quantum_reg):\n",
    "   \n",
    "    for i in range(3):\n",
    "        circuit.h(quantum_reg[i])\n",
    "        circuit.x(quantum_reg[i])\n",
    "\n",
    "    circuit.ccx(quantum_reg[0],quantum_reg[1],quantum_reg[3])\n",
    "    circuit.cz(quantum_reg[2],quantum_reg[3])\n",
    "    circuit.ccx(quantum_reg[0],quantum_reg[1],quantum_reg[3])\n",
    "    \n",
    "    for i in range(3):\n",
    "        circuit.x(quantum_reg[i])\n",
    "        circuit.h(quantum_reg[i])"
   ]
  },
  {
   "cell_type": "markdown",
   "metadata": {},
   "source": [
    "Below you can check the matrix of your inversion operator."
   ]
  },
  {
   "cell_type": "code",
   "execution_count": null,
   "metadata": {},
   "outputs": [],
   "source": [
    "from qiskit import QuantumRegister, ClassicalRegister, QuantumCircuit, execute, Aer\n",
    "\n",
    "big_qreg2 =  QuantumRegister(4)\n",
    "\n",
    "big_mycircuit2 = QuantumCircuit(big_qreg2)\n",
    "\n",
    "big_inversion(big_mycircuit2,big_qreg2)\n",
    "\n",
    "job = execute(big_mycircuit2,Aer.get_backend('unitary_simulator'))\n",
    "u=job.result().get_unitary(big_mycircuit2,decimals=3)\n",
    "for i in range(8):\n",
    "    s=\"\"\n",
    "    for j in range(8):\n",
    "        val = str(u[i][j].real)\n",
    "        while(len(val)<6): val  = \" \"+val\n",
    "        s = s + val\n",
    "    print(s)"
   ]
  },
  {
   "cell_type": "markdown",
   "metadata": {},
   "source": [
    "<a id=\"task6\"></a>\n",
    "<h3>Task 6: Testing Grover's search for 8 elements (Optional, challenging)</h3>\n",
    "\n",
    "Now we will test Grover's search on 8 elements. You will need 5 qubits: First three qubits represent the elements, $q_3$ is the additional qubit used in the inversion phase and $q_4$ is the ancilla qubit to be used by the query phase.\n",
    "\n",
    "You are given the operator $U_{f_8}$. First run the following cell to load it. You can access it via:\n",
    "\n",
    "```python\n",
    "Uf_8(circuit,qreg)\n",
    "```\n",
    "    \n",
    "Which state do you observe the most?"
   ]
  },
  {
   "cell_type": "code",
   "execution_count": null,
   "metadata": {},
   "outputs": [],
   "source": [
    "%run ..\\include\\quantum.py"
   ]
  },
  {
   "cell_type": "markdown",
   "metadata": {},
   "source": [
    "<h3>Solution</h3>"
   ]
  },
  {
   "cell_type": "code",
   "execution_count": null,
   "metadata": {},
   "outputs": [],
   "source": [
    "from qiskit import QuantumRegister, ClassicalRegister, QuantumCircuit, execute, Aer\n",
    "\n",
    "qreg8 =  QuantumRegister(5)\n",
    "creg8 = ClassicalRegister(3)\n",
    "\n",
    "mycircuit8 = QuantumCircuit(qreg8,creg8)\n",
    "\n",
    "#set ancilla\n",
    "mycircuit8.x(qreg8[4])\n",
    "mycircuit8.h(qreg8[4])\n",
    "\n",
    "#Grover\n",
    "for i in range(3):\n",
    "    mycircuit8.h(qreg8[i])\n",
    "\n",
    "mycircuit8.barrier()\n",
    "\n",
    "#Try 1,2,6,12 iterations of Grover\n",
    "for i in range(1):\n",
    "    Uf_8(mycircuit8,qreg8)\n",
    "    mycircuit8.barrier()\n",
    "    big_inversion(mycircuit8,qreg8)\n",
    "    mycircuit8.barrier()\n",
    "\n",
    "#set ancilla back\n",
    "\n",
    "mycircuit8.h(qreg8[4])\n",
    "mycircuit8.x(qreg8[4])\n",
    "\n",
    "for i in range(3):\n",
    "    mycircuit8.measure(qreg8[i],creg8[i])\n",
    "\n",
    "job = execute(mycircuit8,Aer.get_backend('qasm_simulator'),shots=10000)\n",
    "counts8 = job.result().get_counts(mycircuit8)\n",
    "# print the reverse of the outcome\n",
    "for outcome in counts8:\n",
    "    print(outcome,\"is observed\",counts8[outcome],\"times\")\n",
    "\n",
    "mycircuit8.draw(output='mpl')"
   ]
  },
  {
   "cell_type": "markdown",
   "metadata": {},
   "source": [
    "<a id=\"task8\"></a>\n",
    "\n",
    "<h3>Task 8</h3>\n",
    "\n",
    "Implement an oracle function which marks the element 00. Run Grover's search with the oracle you have implemented. "
   ]
  },
  {
   "cell_type": "code",
   "execution_count": null,
   "metadata": {},
   "outputs": [],
   "source": [
    "def oracle_00(circuit,qreg):\n",
    "  "
   ]
  },
  {
   "cell_type": "markdown",
   "metadata": {},
   "source": [
    "<h3>Solution</h3>"
   ]
  },
  {
   "cell_type": "code",
   "execution_count": null,
   "metadata": {},
   "outputs": [],
   "source": [
    "def oracle_00(circuit,qreg):\n",
    "    circuit.x(qreg[0])\n",
    "    circuit.x(qreg[1])\n",
    "    circuit.ccx(qreg[0],qreg[1],qreg[2])\n",
    "    circuit.x(qreg[0])\n",
    "    circuit.x(qreg[1])"
   ]
  },
  {
   "cell_type": "code",
   "execution_count": null,
   "metadata": {},
   "outputs": [],
   "source": [
    "from qiskit import QuantumRegister, ClassicalRegister, QuantumCircuit, execute, Aer\n",
    "\n",
    "qreg = QuantumRegister(3)\n",
    "creg = ClassicalRegister(2)\n",
    "\n",
    "mycircuit = QuantumCircuit(qreg,creg)\n",
    "\n",
    "#Grover\n",
    "\n",
    "\n",
    "#initial step - equal superposition\n",
    "for i in range(2):\n",
    "    mycircuit.h(qreg[i])\n",
    "\n",
    "#set ancilla\n",
    "mycircuit.x(qreg[2])\n",
    "mycircuit.h(qreg[2])\n",
    "\n",
    "mycircuit.barrier()\n",
    "\n",
    "#change the number of iterations\n",
    "iterations=1\n",
    "\n",
    "#Grover's iterations.\n",
    "for i in range(iterations):\n",
    "    #query\n",
    "    oracle_00(mycircuit,qreg)\n",
    "    \n",
    "    mycircuit.barrier()\n",
    "    #inversion\n",
    "    inversion(mycircuit,qreg)\n",
    "    mycircuit.barrier()\n",
    "    \n",
    "    \n",
    "#set ancilla back\n",
    "mycircuit.h(qreg[2])\n",
    "mycircuit.x(qreg[2]) \n",
    "    \n",
    "mycircuit.measure(qreg[0],creg[0])\n",
    "mycircuit.measure(qreg[1],creg[1])\n",
    "\n",
    "job = execute(mycircuit,Aer.get_backend('qasm_simulator'),shots=10000)\n",
    "counts = job.result().get_counts(mycircuit)\n",
    "\n",
    "for outcome in counts:\n",
    "    print(outcome,\"is observed\",counts[outcome],\"times\")\n",
    "\n",
    "mycircuit.draw(output='mpl')"
   ]
  }
 ],
 "metadata": {
  "kernelspec": {
   "display_name": "Python 3",
   "language": "python",
   "name": "python3"
  },
  "language_info": {
   "codemirror_mode": {
    "name": "ipython",
    "version": 3
   },
   "file_extension": ".py",
   "mimetype": "text/x-python",
   "name": "python",
   "nbconvert_exporter": "python",
   "pygments_lexer": "ipython3",
   "version": "3.7.3"
  }
 },
 "nbformat": 4,
 "nbformat_minor": 4
}
